{
 "cells": [
  {
   "cell_type": "markdown",
   "id": "32f0c8bb",
   "metadata": {},
   "source": [
    "## Inteligență Artificială  Tema 1 - 2025: Sokoban\n",
    "\n",
    "Responsabili:\n",
    "- Andrei Olaru\n",
    "- Cătălin Chiru\n",
    "- Andrei Dugăeșescu\n",
    "- Mihai Nan\n",
    "- Vlad Matei Drăghici\n",
    "- Alexandru Baciu\n",
    "- Bogdan-Andrei Sprîncenatu"
   ]
  },
  {
   "cell_type": "code",
   "execution_count": 1,
   "id": "5e0717ff",
   "metadata": {},
   "outputs": [],
   "source": [
    "from sokoban import Map, save_images, create_gif\n",
    "import time"
   ]
  },
  {
   "cell_type": "markdown",
   "id": "a0445a9e",
   "metadata": {},
   "source": [
    "# Creating a map "
   ]
  },
  {
   "cell_type": "code",
   "execution_count": 2,
   "id": "56d9cf8e",
   "metadata": {},
   "outputs": [],
   "source": [
    "# Maps can be created using the Map class\n",
    "map_from_init = Map(5, 5, 0, 0, [('box1', 1, 3)], [(4, 4)], [(3,3), (3,4), (3,1)], 'easy_map1')\n",
    "\n",
    "# Maps can be created through yaml files\n",
    "map_from_yaml = Map.from_yaml('tests/easy_map1.yaml')\n",
    "\n",
    "assert str(map_from_init) == str(map_from_yaml), \"Reading from yaml file Failed\""
   ]
  },
  {
   "cell_type": "code",
   "execution_count": 3,
   "id": "0491ba00",
   "metadata": {},
   "outputs": [],
   "source": [
    "# Maps can also be created from their string representation\n",
    "map_str = str(map_from_init)\n",
    "map_from_str = Map.from_str(map_str)\n",
    "\n",
    "assert str(map_from_init) == str(map_from_str), \"String conversion Failed\""
   ]
  },
  {
   "cell_type": "markdown",
   "id": "3ca391ef",
   "metadata": {},
   "source": [
    "# Solving a map "
   ]
  },
  {
   "cell_type": "code",
   "execution_count": 4,
   "id": "333bbcbb",
   "metadata": {},
   "outputs": [],
   "source": [
    "map = Map.from_yaml('tests/easy_map1.yaml')"
   ]
  },
  {
   "cell_type": "markdown",
   "id": "f06ec825",
   "metadata": {},
   "source": [
    "# Visualizing a map "
   ]
  },
  {
   "cell_type": "code",
   "execution_count": 5,
   "id": "a4f65cdd",
   "metadata": {},
   "outputs": [
    {
     "name": "stdout",
     "output_type": "stream",
     "text": [
      "\n",
      "_ _ _ _ X \n",
      "_ / _ / / \n",
      "_ _ _ _ _ \n",
      "_ _ _ B _ \n",
      "P _ _ _ _ \n"
     ]
    }
   ],
   "source": [
    "print(map)"
   ]
  },
  {
   "cell_type": "code",
   "execution_count": 6,
   "id": "eea95b61",
   "metadata": {},
   "outputs": [
    {
     "data": {
      "image/png": "[encoded data removed]",
      "text/plain": [
       "<Figure size 640x480 with 1 Axes>"
      ]
     },
     "metadata": {},
     "output_type": "display_data"
    }
   ],
   "source": [
    "map.plot_map()"
   ]
  },
  {
   "cell_type": "code",
   "execution_count": 7,
   "id": "33236d66",
   "metadata": {},
   "outputs": [],
   "source": [
    "# To save the state of a map to disk:\n",
    "# map.save_map('images', 'easy_map1_init.png')"
   ]
  },
  {
   "cell_type": "code",
   "execution_count": 8,
   "id": "bbefde79",
   "metadata": {},
   "outputs": [
    {
     "name": "stdout",
     "output_type": "stream",
     "text": [
      "-----easy_map1.yaml-------\n",
      "box1\n",
      "(4, 4)\n",
      "box1\n",
      "(4, 4)\n",
      "-------beam search-----\n",
      "number of explored states is 29\n",
      "number of undo moves is 1\n",
      "-----easy_map2.yaml-------\n",
      "box1\n",
      "(4, 4)\n",
      "box1\n",
      "(4, 4)\n",
      "-------beam search-----\n",
      "number of explored states is 9\n",
      "number of undo moves is 0\n",
      "-----hard_map1.yaml-------\n",
      "box1\n",
      "(6, 5)\n",
      "box2\n",
      "(0, 4)\n",
      "box3\n",
      "(0, 1)\n",
      "box4\n",
      "(1, 0)\n",
      "box1\n",
      "(6, 5)\n",
      "box2\n",
      "(0, 4)\n",
      "box3\n",
      "(0, 1)\n",
      "box4\n",
      "(1, 0)\n",
      "-------beam search-----\n",
      "number of explored states is 340\n",
      "number of undo moves is 61\n",
      "-----hard_map2.yaml-------\n",
      "box1\n",
      "(7, 4)\n",
      "box2\n",
      "(0, 4)\n",
      "box1\n",
      "(7, 4)\n",
      "box2\n",
      "(0, 4)\n",
      "-------beam search-----\n",
      "number of explored states is 242\n",
      "number of undo moves is 30\n",
      "-----large_map1.yaml-------\n",
      "box2\n",
      "(5, 6)\n",
      "box1\n",
      "(6, 8)\n",
      "box2\n",
      "(5, 6)\n",
      "box1\n",
      "(6, 8)\n",
      "-------beam search-----\n",
      "-----large_map2.yaml-------\n",
      "box1\n",
      "(5, 4)\n",
      "box3\n",
      "(3, 8)\n",
      "box2\n",
      "(6, 10)\n",
      "box1\n",
      "(5, 4)\n",
      "box3\n",
      "(3, 8)\n",
      "box2\n",
      "(6, 10)\n",
      "-------beam search-----\n",
      "number of explored states is 2015\n",
      "number of undo moves is 336\n",
      "-----medium_map1.yaml-------\n",
      "box1\n",
      "(3, 4)\n",
      "box2\n",
      "(4, 4)\n",
      "box1\n",
      "(3, 4)\n",
      "box2\n",
      "(4, 4)\n",
      "-------beam search-----\n",
      "number of explored states is 215\n",
      "number of undo moves is 37\n",
      "-----medium_map2.yaml-------\n",
      "box3\n",
      "(6, 2)\n",
      "box1\n",
      "(2, 2)\n",
      "box2\n",
      "(7, 0)\n",
      "box3\n",
      "(6, 2)\n",
      "box1\n",
      "(2, 2)\n",
      "box2\n",
      "(7, 0)\n",
      "-------beam search-----\n",
      "-----super_hard_map1.yaml-------\n",
      "box5\n",
      "(0, 0)\n",
      "box4\n",
      "(2, 1)\n",
      "box1\n",
      "(2, 3)\n",
      "box2\n",
      "(2, 4)\n",
      "box3\n",
      "(4, 4)\n",
      "box5\n",
      "(0, 0)\n",
      "box4\n",
      "(2, 1)\n",
      "box1\n",
      "(2, 3)\n",
      "box2\n",
      "(2, 4)\n",
      "box3\n",
      "(4, 4)\n",
      "-------beam search-----\n",
      "number of explored states is 111\n",
      "number of undo moves is 24\n"
     ]
    }
   ],
   "source": [
    "import os\n",
    "from search_methods.solver import Solver\n",
    "\n",
    "directory_path = \"tests\"\n",
    "\n",
    "maps = []\n",
    "maps_name = []\n",
    "for filename in os.listdir(directory_path):\n",
    "    file_path = os.path.join(directory_path, filename)\n",
    "    maps.append(Map.from_yaml(file_path))\n",
    "    maps_name.append(filename)\n",
    "            \n",
    "# map = Map.from_yaml('tests/medium_map1.yaml')\n",
    "# solver = Solver(map)\n",
    "# solver.solve(True)\n",
    "\n",
    "i = 0\n",
    "for map in maps:\n",
    "    print(\"-----\" + maps_name[i] + \"-------\")\n",
    "    solver = Solver(map)\n",
    "    solver.solve()\n",
    "    i += 1\n"
   ]
  }
 ],
 "metadata": {
  "kernelspec": {
   "display_name": "base",
   "language": "python",
   "name": "python3"
  },
  "language_info": {
   "codemirror_mode": {
    "name": "ipython",
    "version": 3
   },
   "file_extension": ".py",
   "mimetype": "text/x-python",
   "name": "python",
   "nbconvert_exporter": "python",
   "pygments_lexer": "ipython3",
   "version": "3.12.7"
  }
 },
 "nbformat": 4,
 "nbformat_minor": 5
}
