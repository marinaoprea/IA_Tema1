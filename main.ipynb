{
 "cells": [
  {
   "cell_type": "markdown",
   "id": "32f0c8bb",
   "metadata": {},
   "source": [
    "## Inteligență Artificială  Tema 1 - 2025: Sokoban\n",
    "\n",
    "Responsabili:\n",
    "- Andrei Olaru\n",
    "- Cătălin Chiru\n",
    "- Andrei Dugăeșescu\n",
    "- Mihai Nan\n",
    "- Vlad Matei Drăghici\n",
    "- Alexandru Baciu\n",
    "- Bogdan-Andrei Sprîncenatu"
   ]
  },
  {
   "cell_type": "code",
   "execution_count": null,
   "id": "5e0717ff",
   "metadata": {},
   "outputs": [],
   "source": [
    "from sokoban import Map, save_images, create_gif\n",
    "import time"
   ]
  },
  {
   "cell_type": "markdown",
   "id": "6895ef04",
   "metadata": {},
   "source": [
    "#### Saving all maps and map names and preparing for searches"
   ]
  },
  {
   "cell_type": "code",
   "execution_count": null,
   "id": "bbefde79",
   "metadata": {},
   "outputs": [],
   "source": [
    "import os\n",
    "from search_methods.solver import Solver\n",
    "\n",
    "directory_path = \"tests\"\n",
    "\n",
    "maps = []\n",
    "maps_name = []\n",
    "for filename in os.listdir(directory_path):\n",
    "    file_path = os.path.join(directory_path, filename)\n",
    "    maps.append(Map.from_yaml(file_path))\n",
    "    maps_name.append(os.path.splitext(filename)[0])   \n",
    "\n",
    "import search_methods.heuristics as h"
   ]
  },
  {
   "cell_type": "markdown",
   "id": "1bdfaeb6",
   "metadata": {},
   "source": [
    "#### Running one test"
   ]
  },
  {
   "cell_type": "code",
   "execution_count": null,
   "id": "4fa59fc1",
   "metadata": {},
   "outputs": [],
   "source": [
    "test_name = \"hard_map1\"\n",
    "method = \"lrta\"\n",
    "heuristic = h.eval_lrta_bfs_no_box_order\n",
    "\n",
    "map = Map.from_yaml(f'tests/{test_name}.yaml')\n",
    "solver = Solver( map, test_name, method, heuristic)\n",
    "solver.solve(debug=True, save_gif=True)"
   ]
  },
  {
   "cell_type": "markdown",
   "id": "6e8e2f30",
   "metadata": {},
   "source": [
    "#### Beam search with Manhattan results"
   ]
  },
  {
   "cell_type": "code",
   "execution_count": null,
   "id": "1e454a8c",
   "metadata": {},
   "outputs": [],
   "source": [
    "beam_manh_results = []\n",
    "beam_manh_no_states = []\n",
    "beam_manh_pull_moves = []\n",
    "beam_manh_time = []\n",
    "beam_manh_path_len = []\n",
    "\n",
    "i = 0\n",
    "for map in maps:\n",
    "    print(\"-----\" + maps_name[i] + \"-------\")\n",
    "    solver = Solver(map, \"manh\" + maps_name[i], \"beam\", h.eval_beam_search_manhattan)\n",
    "    res, path_len = solver.solve(save_gif=True)\n",
    "    beam_manh_results.append(res)\n",
    "    beam_manh_no_states.append(solver.solver.no_states)\n",
    "    if res:\n",
    "        beam_manh_pull_moves.append(res.undo_moves)\n",
    "        beam_manh_path_len.append(path_len)\n",
    "    else:\n",
    "        beam_manh_pull_moves.append(-10)\n",
    "        beam_manh_path_len.append(-10)\n",
    "    beam_manh_time.append(solver.solver.exec_time)\n",
    "    i += 1"
   ]
  },
  {
   "cell_type": "markdown",
   "id": "31e30c86",
   "metadata": {},
   "source": [
    "#### Beam search with BFS results"
   ]
  },
  {
   "cell_type": "code",
   "execution_count": null,
   "id": "9f784c5c",
   "metadata": {},
   "outputs": [],
   "source": [
    "beam_bfs_results = []\n",
    "beam_bfs_no_states = []\n",
    "beam_bfs_pull_moves = []\n",
    "beam_bfs_time = []\n",
    "beam_bfs_path_len = []\n",
    "\n",
    "i = 0\n",
    "for map in maps:\n",
    "    print(\"-----\" + maps_name[i] + \"-------\")\n",
    "    solver = Solver(map, \"bfs\" + maps_name[i], \"beam\", h.eval_beam_search_bfs)\n",
    "    res, path_len = solver.solve(save_gif=True)\n",
    "    beam_bfs_results.append(res)\n",
    "    beam_bfs_no_states.append(solver.solver.no_states)\n",
    "    if res:\n",
    "        beam_bfs_pull_moves.append(res.undo_moves)\n",
    "        beam_bfs_path_len.append(path_len)\n",
    "    else:\n",
    "        beam_bfs_pull_moves.append(-10)\n",
    "        beam_bfs_path_len.append(-10)\n",
    "    beam_bfs_time.append(solver.solver.exec_time)\n",
    "    i += 1"
   ]
  },
  {
   "cell_type": "markdown",
   "id": "c45e7aae",
   "metadata": {},
   "source": [
    "#### LRTA* with Manhattan results"
   ]
  },
  {
   "cell_type": "code",
   "execution_count": null,
   "id": "8a10ef49",
   "metadata": {},
   "outputs": [],
   "source": [
    "lrta_manh_results = []\n",
    "lrta_manh_no_states = []\n",
    "lrta_manh_pull_moves = []\n",
    "lrta_manh_time = []\n",
    "lrta_manh_path_len = []\n",
    "\n",
    "i = 0\n",
    "for map in maps:\n",
    "    print(\"-----\" + maps_name[i] + \"-------\")\n",
    "    solver = Solver(map, \"manh\" + maps_name[i], \"lrta\", h.eval_lrta_manhatten)\n",
    "    res, pull_moves, path_len = solver.solve(save_gif=True)\n",
    "    lrta_manh_results.append(res)\n",
    "    lrta_manh_no_states.append(solver.solver.no_states)\n",
    "    lrta_manh_pull_moves.append(pull_moves)\n",
    "    lrta_manh_time.append(solver.solver.exec_time)\n",
    "    lrta_manh_path_len.append(path_len)\n",
    "    i += 1"
   ]
  },
  {
   "cell_type": "markdown",
   "id": "8485a293",
   "metadata": {},
   "source": [
    "#### LRTA* with BFS and closest box"
   ]
  },
  {
   "cell_type": "code",
   "execution_count": null,
   "id": "4670934f",
   "metadata": {},
   "outputs": [],
   "source": [
    "lrta_bfs_no_results = []\n",
    "lrta_bfs_no_no_states = []\n",
    "lrta_bfs_no_pull_moves = []\n",
    "lrta_bfs_no_time = []\n",
    "lrta_bfs_no_path_len = []\n",
    "\n",
    "i = 0\n",
    "for map in maps:\n",
    "    print(\"-----\" + maps_name[i] + \"-------\")\n",
    "    solver = Solver(map, \"bfs_closest\" + maps_name[i], \"lrta\", h.eval_lrta_bfs_no_box_order)\n",
    "    res, pull_moves, path_len = solver.solve(save_gif=True)\n",
    "    lrta_bfs_no_results.append(res)\n",
    "    lrta_bfs_no_no_states.append(solver.solver.no_states)\n",
    "    lrta_bfs_no_pull_moves.append(pull_moves)\n",
    "    lrta_bfs_no_time.append(solver.solver.exec_time)\n",
    "    lrta_bfs_no_path_len.append(path_len)\n",
    "\n",
    "    i += 1"
   ]
  },
  {
   "cell_type": "markdown",
   "id": "726f7ba8",
   "metadata": {},
   "source": [
    "#### LRTA* with BFS and box order"
   ]
  },
  {
   "cell_type": "code",
   "execution_count": null,
   "id": "31566cd0",
   "metadata": {},
   "outputs": [],
   "source": [
    "lrta_bfs_results = []\n",
    "lrta_bfs_no_states = []\n",
    "lrta_bfs_pull_moves = []\n",
    "lrta_bfs_time = []\n",
    "lrta_bfs_path_len = []\n",
    "\n",
    "i = 0\n",
    "for map in maps:\n",
    "    print(\"-----\" + maps_name[i] + \"-------\")\n",
    "    solver = Solver(map, \"bfs order\" + maps_name[i], \"lrta\", h.eval_lrta_bfs_box_order)\n",
    "    res, pull_moves, path_len = solver.solve(save_gif=True)\n",
    "    lrta_bfs_results.append(res)\n",
    "    lrta_bfs_no_states.append(solver.solver.no_states)\n",
    "    lrta_bfs_pull_moves.append(pull_moves)\n",
    "    lrta_bfs_time.append(solver.solver.exec_time)\n",
    "    lrta_bfs_path_len.append(path_len)\n",
    "    \n",
    "    i += 1"
   ]
  },
  {
   "cell_type": "markdown",
   "id": "781b58aa",
   "metadata": {},
   "source": [
    "#### Plotting graphics"
   ]
  },
  {
   "cell_type": "code",
   "execution_count": null,
   "id": "50514191",
   "metadata": {},
   "outputs": [],
   "source": [
    "import matplotlib.pyplot as plt\n",
    "import numpy as np\n",
    "\n",
    "categories = []\n",
    "for filename in os.listdir(directory_path):\n",
    "    name, ext = os.path.splitext(filename)\n",
    "    categories.append(name)"
   ]
  },
  {
   "cell_type": "markdown",
   "id": "01cb5f8f",
   "metadata": {},
   "source": [
    "#### Beam search results with different heuristics"
   ]
  },
  {
   "cell_type": "markdown",
   "id": "b49169f4",
   "metadata": {},
   "source": [
    "- Explored states for beam search"
   ]
  },
  {
   "cell_type": "code",
   "execution_count": null,
   "id": "15dbb903",
   "metadata": {},
   "outputs": [],
   "source": [
    "values1 = beam_manh_no_states\n",
    "values2 = beam_bfs_no_states\n",
    "\n",
    "x = np.arange(len(categories))\n",
    "\n",
    "width = 0.3\n",
    "\n",
    "plt.bar(x - width / 2, values1, width=width, label=\"manhatten\", color=\"skyblue\")\n",
    "plt.bar(x + width / 2, values2, width=width, label=\"bfs\", color=\"lightcoral\")\n",
    "\n",
    "for i in range(len(categories)):\n",
    "    plt.text(x[i] - width/2, values1[i], str(values1[i]), ha='center', fontsize=6, rotation=45)\n",
    "    plt.text(x[i] + width/2, values2[i], str(values2[i]), ha='center', fontsize=6, rotation=45)\n",
    "\n",
    "plt.xticks(x, categories)\n",
    "\n",
    "plt.xlabel(\"Tests\")\n",
    "plt.ylabel(\"Explored states\")\n",
    "plt.title(\"Explored states for beam search\")\n",
    "plt.xticks(rotation=60)\n",
    "plt.legend()\n",
    "plt.show()\n"
   ]
  },
  {
   "cell_type": "markdown",
   "id": "3eead1a8",
   "metadata": {},
   "source": [
    "- Pull moves for beam search"
   ]
  },
  {
   "cell_type": "code",
   "execution_count": null,
   "id": "31dfadfb",
   "metadata": {},
   "outputs": [],
   "source": [
    "values1 = beam_manh_pull_moves\n",
    "values2 = beam_bfs_pull_moves\n",
    "\n",
    "x = np.arange(len(categories))\n",
    "\n",
    "width = 0.3\n",
    "\n",
    "plt.bar(x - width / 2, values1, width=width, label=\"manhatten\", color=\"skyblue\")\n",
    "plt.bar(x + width / 2, values2, width=width, label=\"bfs\", color=\"lightcoral\")\n",
    "\n",
    "for i in range(len(categories)):\n",
    "    plt.text(x[i] - width/2, values1[i], str(values1[i]), ha='center', fontsize=6)\n",
    "    plt.text(x[i] + width/2, values2[i], str(values2[i]), ha='center', fontsize=6)\n",
    "\n",
    "plt.xticks(x, categories)\n",
    "\n",
    "plt.xlabel(\"Tests\")\n",
    "plt.ylabel(\"Pull moves\")\n",
    "plt.title(\"Pull moves for beam search\")\n",
    "plt.xticks(rotation=60)\n",
    "plt.legend()\n",
    "plt.show()"
   ]
  },
  {
   "cell_type": "markdown",
   "id": "a40947de",
   "metadata": {},
   "source": [
    "- Execution time for beam search"
   ]
  },
  {
   "cell_type": "code",
   "execution_count": null,
   "id": "0017ef70",
   "metadata": {},
   "outputs": [],
   "source": [
    "values1 = [round(x, 3) for x in beam_manh_time]\n",
    "values2 = [round(x, 3) for x in beam_bfs_time]\n",
    "\n",
    "x = np.arange(len(categories))\n",
    "\n",
    "width = 0.3\n",
    "\n",
    "plt.bar(x - width / 2, values1, width=width, label=\"manhatten\", color=\"skyblue\")\n",
    "plt.bar(x + width / 2, values2, width=width, label=\"bfs\", color=\"lightcoral\")\n",
    "\n",
    "for i in range(len(categories)):\n",
    "    plt.text(x[i] - width/2, values1[i], str(values1[i]), ha='center', fontsize=6)\n",
    "    plt.text(x[i] + width/2, values2[i], str(values2[i]), ha='center', fontsize=6)\n",
    "\n",
    "plt.xticks(x, categories)\n",
    "\n",
    "plt.xlabel(\"Tests\")\n",
    "plt.ylabel(\"Execution time\")\n",
    "plt.title(\"Execution time for beam search\")\n",
    "plt.xticks(rotation=60)\n",
    "plt.legend()\n",
    "plt.show()"
   ]
  },
  {
   "cell_type": "markdown",
   "id": "fbf37f8f",
   "metadata": {},
   "source": [
    "- Solution length for beam search"
   ]
  },
  {
   "cell_type": "code",
   "execution_count": null,
   "id": "068fb16a",
   "metadata": {},
   "outputs": [],
   "source": [
    "values1 = beam_manh_path_len\n",
    "values2 = beam_bfs_path_len\n",
    "\n",
    "x = np.arange(len(categories))\n",
    "\n",
    "width = 0.3\n",
    "\n",
    "plt.bar(x - width / 2, values1, width=width, label=\"manhatten\", color=\"skyblue\")\n",
    "plt.bar(x + width / 2, values2, width=width, label=\"bfs\", color=\"lightcoral\")\n",
    "\n",
    "for i in range(len(categories)):\n",
    "    plt.text(x[i] - width/2, values1[i], str(values1[i]), ha='center', fontsize=6)\n",
    "    plt.text(x[i] + width/2, values2[i], str(values2[i]), ha='center', fontsize=6)\n",
    "\n",
    "plt.xticks(x, categories)\n",
    "\n",
    "plt.xlabel(\"Tests\")\n",
    "plt.ylabel(\"Solution length\")\n",
    "plt.title(\"Solution length for beam search\")\n",
    "plt.xticks(rotation=60)\n",
    "plt.legend()\n",
    "plt.show()"
   ]
  },
  {
   "cell_type": "markdown",
   "id": "5f8f4470",
   "metadata": {},
   "source": [
    "#### LRTA* results with different heuristics"
   ]
  },
  {
   "cell_type": "markdown",
   "id": "60eb3a91",
   "metadata": {},
   "source": [
    "- Explored states for LRTA*"
   ]
  },
  {
   "cell_type": "code",
   "execution_count": null,
   "id": "de64f3c8",
   "metadata": {},
   "outputs": [],
   "source": [
    "values1 = lrta_manh_no_states\n",
    "values2 = lrta_bfs_no_no_states\n",
    "values3 = lrta_bfs_no_states\n",
    "\n",
    "x = np.arange(len(categories))\n",
    "\n",
    "width = 0.2\n",
    "\n",
    "plt.bar(x - width, values1, width=width, label=\"manhatten\", color=\"skyblue\")\n",
    "plt.bar(x, values2, width=width, label=\"bfs_no_order\", color=\"lightcoral\")\n",
    "plt.bar(x + width, values3, width=width, label=\"bfs\", color=\"seagreen\")\n",
    "\n",
    "for i in range(len(categories)):\n",
    "    plt.text(x[i] - width, values1[i], str(values1[i]), ha='center', fontsize=6, rotation=45)\n",
    "    plt.text(x[i], values2[i], str(values2[i]), ha='center', fontsize=6, rotation=45)\n",
    "    plt.text(x[i] + width, values3[i], str(values3[i]), ha='center', fontsize=6, rotation=45)\n",
    "\n",
    "plt.xticks(x, categories)\n",
    "\n",
    "plt.xlabel(\"Tests\")\n",
    "plt.ylabel(\"Explored states\")\n",
    "plt.title(\"Explored states for LRTA*\")\n",
    "plt.xticks(rotation=60)\n",
    "plt.legend()\n",
    "plt.show()"
   ]
  },
  {
   "cell_type": "markdown",
   "id": "8dc10b12",
   "metadata": {},
   "source": [
    "- Pull moves for LRTA*"
   ]
  },
  {
   "cell_type": "code",
   "execution_count": null,
   "id": "f9401330",
   "metadata": {},
   "outputs": [],
   "source": [
    "values1 = lrta_manh_pull_moves\n",
    "values2 = lrta_bfs_no_pull_moves\n",
    "values3 = lrta_bfs_pull_moves\n",
    "\n",
    "x = np.arange(len(categories))\n",
    "\n",
    "width = 0.2\n",
    "\n",
    "plt.bar(x - width, values1, width=width, label=\"manhatten\", color=\"skyblue\")\n",
    "plt.bar(x, values2, width=width, label=\"bfs_closest\", color=\"lightcoral\")\n",
    "plt.bar(x + width, values3, width=width, label=\"bfs\", color=\"seagreen\")\n",
    "\n",
    "for i in range(len(categories)):\n",
    "    plt.text(x[i] - width, values1[i], str(values1[i]), ha='center', fontsize=6)\n",
    "    plt.text(x[i], values2[i], str(values2[i]), ha='center', fontsize=6)\n",
    "    plt.text(x[i] + width, values3[i], str(values3[i]), ha='center', fontsize=6)\n",
    "\n",
    "plt.xticks(x, categories)\n",
    "\n",
    "plt.xlabel(\"Tests\")\n",
    "plt.ylabel(\"Pull moves\")\n",
    "plt.title(\"Pull moves for LRTA*\")\n",
    "plt.xticks(rotation=60)\n",
    "plt.legend()\n",
    "plt.show()"
   ]
  },
  {
   "cell_type": "markdown",
   "id": "dc20af28",
   "metadata": {},
   "source": [
    "- Execution time for LRTA*"
   ]
  },
  {
   "cell_type": "code",
   "execution_count": null,
   "id": "49da446b",
   "metadata": {},
   "outputs": [],
   "source": [
    "values1 = [round(x, 1) for x in lrta_manh_time]\n",
    "values2 = [round(x, 1) for x in lrta_bfs_no_time]\n",
    "values3 = [round(x, 1) for x in lrta_bfs_time]\n",
    "\n",
    "x = np.arange(len(categories))\n",
    "\n",
    "width = 0.2\n",
    "\n",
    "plt.bar(x - width, values1, width=width, label=\"manhatten\", color=\"skyblue\")\n",
    "plt.bar(x, values2, width=width, label=\"bfs_closest\", color=\"lightcoral\")\n",
    "plt.bar(x + width, values3, width=width, label=\"bfs\", color=\"seagreen\")\n",
    "\n",
    "for i in range(len(categories)):\n",
    "    plt.text(x[i] - width, values1[i], str(values1[i]), ha='center', fontsize=6)\n",
    "    plt.text(x[i], values2[i], str(values2[i]), ha='center', fontsize=6)\n",
    "    plt.text(x[i] + width, values3[i], str(values3[i]), ha='center', fontsize=6)\n",
    "\n",
    "plt.xticks(x, categories)\n",
    "\n",
    "plt.xlabel(\"Tests\")\n",
    "plt.ylabel(\"Execution time\")\n",
    "plt.title(\"Execution time for LRTA*\")\n",
    "plt.xticks(rotation=60)\n",
    "plt.legend()\n",
    "plt.show()"
   ]
  },
  {
   "cell_type": "markdown",
   "id": "b26b74ac",
   "metadata": {},
   "source": [
    "- Solution length for LRTA*"
   ]
  },
  {
   "cell_type": "code",
   "execution_count": null,
   "id": "f9e58c02",
   "metadata": {},
   "outputs": [],
   "source": [
    "values1 = lrta_manh_path_len\n",
    "values2 = lrta_bfs_no_path_len\n",
    "values3 = lrta_bfs_path_len\n",
    "\n",
    "x = np.arange(len(categories))\n",
    "\n",
    "width = 0.2\n",
    "\n",
    "plt.bar(x - width, values1, width=width, label=\"manhatten\", color=\"skyblue\")\n",
    "plt.bar(x, values2, width=width, label=\"bfs_closest\", color=\"lightcoral\")\n",
    "plt.bar(x + width, values3, width=width, label=\"bfs\", color=\"seagreen\")\n",
    "\n",
    "for i in range(len(categories)):\n",
    "    plt.text(x[i] - width, values1[i], str(values1[i]), ha='center', fontsize=6)\n",
    "    plt.text(x[i], values2[i], str(values2[i]), ha='center', fontsize=6)\n",
    "    plt.text(x[i] + width, values3[i], str(values3[i]), ha='center', fontsize=6)\n",
    "\n",
    "plt.xticks(x, categories)\n",
    "\n",
    "plt.xlabel(\"Tests\")\n",
    "plt.ylabel(\"Solution length\")\n",
    "plt.title(\"Solution length for LRTA*\")\n",
    "plt.xticks(rotation=60)\n",
    "plt.legend()\n",
    "plt.show()\n"
   ]
  },
  {
   "cell_type": "markdown",
   "id": "28209235",
   "metadata": {},
   "source": [
    "### Comparisons"
   ]
  },
  {
   "cell_type": "markdown",
   "id": "6628b213",
   "metadata": {},
   "source": [
    "- Explored states comparison"
   ]
  },
  {
   "cell_type": "code",
   "execution_count": null,
   "id": "1dd2a64b",
   "metadata": {},
   "outputs": [],
   "source": [
    "values1 = beam_bfs_no_states\n",
    "values2 = lrta_bfs_no_no_states\n",
    "\n",
    "import builtins\n",
    "values1 = list(builtins.map(lambda x: x if x < 20000 else -1000, values1))\n",
    "values2 = list(builtins.map(lambda x: x if x < 20000 else -1000, values2))\n",
    "\n",
    "x = np.arange(len(categories))\n",
    "\n",
    "width = 0.3\n",
    "\n",
    "plt.bar(x - width / 2, values1, width=width, label=\"beam search\", color=\"skyblue\")\n",
    "plt.bar(x + width / 2, values2, width=width, label=\"lrta*\", color=\"lightcoral\")\n",
    "\n",
    "for i in range(len(categories)):\n",
    "    plt.text(x[i] - width/2, values1[i], str(values1[i]), ha='center', fontsize=6, rotation=45)\n",
    "    plt.text(x[i] + width/2, values2[i], str(values2[i]), ha='center', fontsize=6, rotation=45)\n",
    "\n",
    "plt.xticks(x, categories)\n",
    "\n",
    "plt.xlabel(\"Tests\")\n",
    "plt.ylabel(\"Explored states\")\n",
    "plt.title(\"Explored states for beam search and lrta* comparison\")\n",
    "plt.xticks(rotation=60)\n",
    "plt.legend()\n",
    "plt.show()"
   ]
  },
  {
   "cell_type": "markdown",
   "id": "78133af3",
   "metadata": {},
   "source": [
    "- Pull moves comparison"
   ]
  },
  {
   "cell_type": "code",
   "execution_count": null,
   "id": "449c0c0d",
   "metadata": {},
   "outputs": [],
   "source": [
    "values1 = beam_bfs_pull_moves\n",
    "values2 = lrta_bfs_no_pull_moves\n",
    "\n",
    "x = np.arange(len(categories))\n",
    "\n",
    "width = 0.3\n",
    "\n",
    "plt.bar(x - width / 2, values1, width=width, label=\"beam search\", color=\"skyblue\")\n",
    "plt.bar(x + width / 2, values2, width=width, label=\"lrta*\", color=\"lightcoral\")\n",
    "\n",
    "for i in range(len(categories)):\n",
    "    plt.text(x[i] - width/2, values1[i], str(values1[i]), ha='center', fontsize=6)\n",
    "    plt.text(x[i] + width/2, values2[i], str(values2[i]), ha='center', fontsize=6)\n",
    "\n",
    "plt.xticks(x, categories)\n",
    "\n",
    "plt.xlabel(\"Tests\")\n",
    "plt.ylabel(\"Pull moves\")\n",
    "plt.title(\"Pull moves for beam search and lrta* comparison\")\n",
    "plt.xticks(rotation=60)\n",
    "plt.legend()\n",
    "plt.show()"
   ]
  },
  {
   "cell_type": "markdown",
   "id": "1ad0b43f",
   "metadata": {},
   "source": [
    "- Execution time comparison"
   ]
  },
  {
   "cell_type": "code",
   "execution_count": null,
   "id": "23a4e32e",
   "metadata": {},
   "outputs": [],
   "source": [
    "values1 = [round(x, 1) for x in beam_bfs_time]\n",
    "values2 = [round(x, 1) for x in lrta_bfs_no_time]\n",
    "\n",
    "x = np.arange(len(categories))\n",
    "\n",
    "width = 0.3\n",
    "\n",
    "plt.bar(x - width / 2, values1, width=width, label=\"beam search\", color=\"skyblue\")\n",
    "plt.bar(x + width / 2, values2, width=width, label=\"lrta*\", color=\"lightcoral\")\n",
    "\n",
    "for i in range(len(categories)):\n",
    "    plt.text(x[i] - width/2, values1[i], str(values1[i]), ha='center', fontsize=6)\n",
    "    plt.text(x[i] + width/2, values2[i], str(values2[i]), ha='center', fontsize=6)\n",
    "\n",
    "plt.xticks(x, categories)\n",
    "\n",
    "plt.xlabel(\"Tests\")\n",
    "plt.ylabel(\"Execution time\")\n",
    "plt.title(\"Execution time for beam search and lrta* comparison\")\n",
    "plt.xticks(rotation=60)\n",
    "plt.legend()\n",
    "plt.show()"
   ]
  },
  {
   "cell_type": "markdown",
   "id": "37b95b7d",
   "metadata": {},
   "source": [
    "- Solution length comparison"
   ]
  },
  {
   "cell_type": "code",
   "execution_count": null,
   "id": "e5326b97",
   "metadata": {},
   "outputs": [],
   "source": [
    "values1 = beam_bfs_path_len\n",
    "values2 = lrta_bfs_no_path_len\n",
    "\n",
    "x = np.arange(len(categories))\n",
    "\n",
    "width = 0.3\n",
    "\n",
    "plt.bar(x - width / 2, values1, width=width, label=\"beam search\", color=\"skyblue\")\n",
    "plt.bar(x + width / 2, values2, width=width, label=\"lrta*\", color=\"lightcoral\")\n",
    "\n",
    "for i in range(len(categories)):\n",
    "    plt.text(x[i] - width/2, values1[i], str(values1[i]), ha='center', fontsize=6)\n",
    "    plt.text(x[i] + width/2, values2[i], str(values2[i]), ha='center', fontsize=6)\n",
    "\n",
    "plt.xticks(x, categories)\n",
    "\n",
    "plt.xlabel(\"Tests\")\n",
    "plt.ylabel(\"Solution length\")\n",
    "plt.title(\"Solution length for beam search and lrta* comparison\")\n",
    "plt.xticks(rotation=60)\n",
    "plt.legend()\n",
    "plt.show()"
   ]
  }
 ],
 "metadata": {
  "kernelspec": {
   "display_name": "base",
   "language": "python",
   "name": "python3"
  },
  "language_info": {
   "codemirror_mode": {
    "name": "ipython",
    "version": 3
   },
   "file_extension": ".py",
   "mimetype": "text/x-python",
   "name": "python",
   "nbconvert_exporter": "python",
   "pygments_lexer": "ipython3",
   "version": "3.12.7"
  }
 },
 "nbformat": 4,
 "nbformat_minor": 5
}
